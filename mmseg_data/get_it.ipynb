{
 "cells": [
  {
   "cell_type": "code",
   "execution_count": 19,
   "id": "d9c55049-3e2d-4d27-a938-c27afe4adaf8",
   "metadata": {},
   "outputs": [],
   "source": [
    "import os"
   ]
  },
  {
   "cell_type": "code",
   "execution_count": 14,
   "id": "69fb60b0-6977-4dd9-b798-0f11c2039ae0",
   "metadata": {},
   "outputs": [],
   "source": [
    "#2616\n",
    "base_dir = '/opt/ml/segmentation/semantic-segmentation-level2-cv-11/mmseg_data/val/ann'\n",
    "listdir = os.listdir(base_dir)\n",
    "\n",
    "for file in listdir:\n",
    "    \n",
    "    num = int(file.split('.')[0]) +2617\n",
    "    new_file_name = str(num)+'.png'\n",
    "    os.rename(base_dir+'/'+file, base_dir+'/'+new_file_name)"
   ]
  },
  {
   "cell_type": "code",
   "execution_count": 17,
   "id": "4e40bb4f-f8a3-4b53-a498-4c67f7d90112",
   "metadata": {},
   "outputs": [],
   "source": [
    "import shutil\n",
    "\n",
    "filename = 'test.txt' \n",
    "src = '/opt/ml/segmentation/semantic-segmentation-level2-cv-11/mmseg_data/train/ann' \n",
    "dir_name = '/opt/ml/segmentation/semantic-segmentation-level2-cv-11/mmseg_data/val/ann' \n",
    "\n",
    "listdir = os.listdir(dir_name)\n",
    "for file in listdir:\n",
    "    \n",
    "    shutil.move(src+'/'+file, dir_name+'/'+file)"
   ]
  },
  {
   "cell_type": "code",
   "execution_count": 22,
   "id": "d814343b-0d70-4274-a8cf-549f2c9fe2ef",
   "metadata": {},
   "outputs": [
    {
     "data": {
      "text/plain": [
       "'/opt/ml/segmentation/semantic-segmentation-level2-cv-11/mmseg_data/train3'"
      ]
     },
     "execution_count": 22,
     "metadata": {},
     "output_type": "execute_result"
    }
   ],
   "source": [
    "shutil.copytree(\"/opt/ml/segmentation/semantic-segmentation-level2-cv-11/mmseg_data/train\", \"/opt/ml/segmentation/semantic-segmentation-level2-cv-11/mmseg_data/train3\")"
   ]
  },
  {
   "cell_type": "code",
   "execution_count": null,
   "id": "4a3cbb8b-8793-4711-82fe-4b98a0f25fec",
   "metadata": {},
   "outputs": [],
   "source": []
  }
 ],
 "metadata": {
  "kernelspec": {
   "display_name": "Python 3 (ipykernel)",
   "language": "python",
   "name": "python3"
  },
  "language_info": {
   "codemirror_mode": {
    "name": "ipython",
    "version": 3
   },
   "file_extension": ".py",
   "mimetype": "text/x-python",
   "name": "python",
   "nbconvert_exporter": "python",
   "pygments_lexer": "ipython3",
   "version": "3.7.11"
  }
 },
 "nbformat": 4,
 "nbformat_minor": 5
}
